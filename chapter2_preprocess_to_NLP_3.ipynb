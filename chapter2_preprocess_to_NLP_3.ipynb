{
 "cells": [
  {
   "cell_type": "markdown",
   "metadata": {},
   "source": [
    "# chapter 2 자연어 처리 개발 준비\n",
    "\n",
    "*** 1장은 파이썬 설치와 관련된 사항이기때문에 넘어가고 2장부터 시작해보자.***  \n",
    "  \n",
    "2번째 part 시작!"
   ]
  },
  {
   "cell_type": "markdown",
   "metadata": {},
   "source": [
    "# 3. 자연어 토크나이징 도구\n",
    "\n",
    "자연어 처리를 하기 위해서는 우선 텍스트에 대한 정보를 단위별로 나누는 것이 일반적이다. 예를 들어 영화리뷰를 예측한다면 문장을 단어단위로 쪼개서 분석할수 있다. 이처럼 예측해야할 입력정보를 하나의 특정기본단위로 자르는것을 토크나이징이라고 한다. \n",
    "\n",
    "### 영어 토크나이징 라이브러리\n",
    "\n",
    "#### NLTK\n",
    "대표적인 라이브러리가 nltk가 있다. 50개가 넘는 말뭉치 리소스를 활용해 영어텍스트를 분석할수잇도록 제공한다.\n",
    "\n",
    "```shell\n",
    "conda install nltk\n",
    "```\n",
    "해당 명령어로 설치한다.\n",
    "\n",
    "그리고 nltk는 자체 말뭉치를 제공하므로 이걸 사용하려면 다운로드해야한다. \n",
    "```python3\n",
    "import nltk\n",
    "nltk.download()\n",
    "```"
   ]
  },
  {
   "cell_type": "code",
   "execution_count": 7,
   "metadata": {},
   "outputs": [
    {
     "name": "stderr",
     "output_type": "stream",
     "text": [
      "[nltk_data] Downloading package punkt to /home/ubuntu/nltk_data...\n",
      "[nltk_data]   Unzipping tokenizers/punkt.zip.\n"
     ]
    },
    {
     "data": {
      "text/plain": [
       "True"
      ]
     },
     "execution_count": 7,
     "metadata": {},
     "output_type": "execute_result"
    }
   ],
   "source": [
    "# conda install nltk -y\n",
    "\n",
    "import nltk\n",
    "nltk.download('punkt')"
   ]
  },
  {
   "cell_type": "markdown",
   "metadata": {},
   "source": [
    "### 토크나이징\n",
    "파이썬은 split을 통해 나눌수도 있지만 라이브러리를 사용하면 훨씬더 간편하고 효과적으로 토크나이징할수 있다.  \n",
    "단어단위 토크나이징은 word_tokenize를 불러와 사용하면 되고, 문장 단위 토크나이징은 sent_tokenize 를 사용하면 된다."
   ]
  },
  {
   "cell_type": "code",
   "execution_count": 8,
   "metadata": {},
   "outputs": [
    {
     "name": "stdout",
     "output_type": "stream",
     "text": [
      "['Natural', 'language', 'processing', '(', 'NLP', ')', 'is', 'a', 'subfield', 'of', 'computer', 'science', ',', 'information', 'engineering', ',', 'and', 'artificail', 'intelligences', ',', 'corcerned', 'with', 'the', 'interactions', 'between', 'computers', 'and', 'human', '(', 'natural', ')', 'languages', ',', 'in', 'particular', 'how', 'to', 'program', 'computers', 'to', 'process', 'and', 'analyze', 'large', 'amounts', 'of', 'natural', 'language', 'data', '.']\n",
      "['Natural language processing (NLP) is a subfield of computer science, information enginerring, and artificial intelligence concerned with the interactions between computers and human (naruarl) languages, in particular how to program computers to precess and analyzer large amounts of natural langauge data.', 'Challenges in narural language processing frequently involve sppech recognition, natural language understanding, and natural language generation.']\n"
     ]
    }
   ],
   "source": [
    "from nltk.tokenize  import word_tokenize\n",
    "from nltk.tokenize  import sent_tokenize\n",
    "\n",
    "sentence='Natural language processing (NLP) is a subfield of computer science, information engineering, and artificail intelligences, corcerned with the interactions between computers and human (natural) languages, in particular how to program computers to process and analyze large amounts of natural language data.'\n",
    "print(word_tokenize(sentence))\n",
    "\n",
    "paragraph='Natural language processing (NLP) is a subfield of computer science, information enginerring, and artificial intelligence concerned with the interactions between computers and human (naruarl) languages, in particular how to program computers to precess and analyzer large amounts of natural langauge data. Challenges in narural language processing frequently involve sppech recognition, natural language understanding, and natural language generation.'\n",
    "print(sent_tokenize(paragraph))\n"
   ]
  },
  {
   "cell_type": "markdown",
   "metadata": {},
   "source": [
    "이밖에도 nltk는 다양한 기능을 제공하고 있으므로 찾아서 사용해보자.\n",
    "\n",
    "그리고 다음으로 Spacy에 대해서 알아보자.\n",
    "### Spacy\n",
    "\n",
    "상업용 목적으로 만들어 졌다는 점에서 nltk와는 다르다. 영어 뿐 아니라 8개국의 자연어 전처리모듈을 제공하고있다. 또 딥러닝 언어모델의 개발도 지원하고 있어 매력적이다. [공식문서](https://spacy.io/usage/training)를 통해서 자세한 내용을 확인해보자.\n",
    "\n",
    "```shell\n",
    "conda install spacy\n",
    "python -m spacy download en\n",
    "```\n",
    "전처리를 하기 위해서는 해당 언어 데이터를 받아야한다.   \n",
    "\n",
    "spacy를 사용하여 토크나이징을 해보자"
   ]
  },
  {
   "cell_type": "code",
   "execution_count": 1,
   "metadata": {},
   "outputs": [
    {
     "name": "stdout",
     "output_type": "stream",
     "text": [
      "['Natural', 'language', 'processing', '(', 'NLP', ')', 'is', 'a', 'subfield', 'of', 'computer', 'science', ',', 'information', 'engineering', ',', 'and', 'artificail', 'intelligences', ',', 'corcerned', 'with', 'the', 'interactions', 'between', 'computers', 'and', 'human', '(', 'natural', ')', 'languages', ',', 'in', 'particular', 'how', 'to', 'program', 'computers', 'to', 'process', 'and', 'analyze', 'large', 'amounts', 'of', 'natural', 'language', 'data', '.']\n",
      "['Natural language processing (NLP) is a subfield of computer science, information engineering, and artificail intelligences, corcerned with the interactions between computers and human (natural) languages, in particular how to program computers to process and analyze large amounts of natural language data.']\n"
     ]
    }
   ],
   "source": [
    "# !conda install spacy -y\n",
    "# !python -m spacy download en\n",
    "import spacy\n",
    "\n",
    "nlp = spacy.load('en')\n",
    "sentence='Natural language processing (NLP) is a subfield of computer science, information engineering, and artificail intelligences, corcerned with the interactions between computers and human (natural) languages, in particular how to program computers to process and analyze large amounts of natural language data.'\n",
    "\n",
    "doc = nlp(sentence)\n",
    "\n",
    "word_tokenized_sentence = [token.text for token in doc]\n",
    "sentence_tokenized_list = [sent.text for sent in doc.sents]\n",
    "print(word_tokenized_sentence)\n",
    "print(sentence_tokenized_list)"
   ]
  },
  {
   "cell_type": "markdown",
   "metadata": {},
   "source": [
    "nltk와 spacy는 한글 토크나이징을 할수 없다. 그러면 한국어 토크나이징은 어떻게 해야할까?\n",
    "살펴보자\n",
    "\n",
    "### 한글 토크나이징 라이브러리\n",
    "\n",
    "#### KoNLPy\n",
    "KoNLPy는 국내에서 이미 만들어져 사용되고 있는 여러 형태소분석기를 사용할수 있게 허용한다. 여기서는 형태소 단위의 토크나이징을 알아보자. 먼저 java가 설치되어있어야한다. 그리고 jPype1 0.57 이상 버전이 설치되어있어야한다.\n",
    "\n",
    "자바는 오라클에서 설치하면 되고 JPype1은 아래 처럼\n",
    "```shell\n",
    "pip install JPype1-0.6.2-cp36-cp36m-win_amd64.whl\n",
    "```\n",
    "이렇게 설치해주면 된다.  \n",
    "  \n",
    "  \n",
    "한글 텍스트의 경우에는 형태소 단위 토크나이징이 필요할 때가 있다. KoNLPy에서는 여러 형태소 분석기를 제공하며, 각 형태소 분석기별로 분석한 결과는 다를 수 있다. 각 형태소 분석기는 클래스형태도 되어있고 개체로 생성한 후 메서드를 호출해서 토크나이징 할수 있다. 종류에는 \n",
    "\n",
    "- Hannanum\n",
    "- Kkma\n",
    "- Komoran\n",
    "- Mecab\n",
    "- Okt\n",
    "\n",
    "이중 Okt로 예를 들어보자\n",
    "\n",
    "Okt는 4개의 함수를 제공한다.\n",
    "- morphs()\n",
    "    > 텍스트를 형태소 단위로 나눈다. 옵션으로 norm, stem 이 있는데 True, False를 받는다.\n",
    "    > norm은 normalize의 약자로써 문장을 정규화 하는 역할을 하고, stem 은 어간을 추출하는 기능이다. 기본값은 False이다.\n",
    "- nouns()\n",
    "    > 텍스트에서 명사만 뽑아낸다.\n",
    "- phrases()\n",
    "    > 텍스트에서 어절을 뽑아낸다.\n",
    "- pos()\n",
    "    > pos는 품사를 태깅하는 역할을 한다. 품사를 태깅한다는 것은 주어진 텍스트를 형태소단위로 나누고 나눠진 각 형태소를 그에 해당하는 품사와 함께 리스트화 하는 것을 의미한다. morphs와 마찬가지고 norm, stem 옵션이있고 추가적으로 join이 있는데 True로 하게되면 형태소와 품사를 '형태소/품사' 형태로 붙여서 출력한다.\n"
   ]
  },
  {
   "cell_type": "code",
   "execution_count": 1,
   "metadata": {},
   "outputs": [
    {
     "name": "stdout",
     "output_type": "stream",
     "text": [
      "['한글', '자연어', '처리', '는', '재밌다', '.', '이제', '부터', '열심히', '해야지', 'ㅎㅎㅎ']\n",
      "['한글', '자연어', '처리', '는', '재밌다', '.', '이제', '부터', '열심히', '하다', 'ㅎㅎㅎ']\n"
     ]
    }
   ],
   "source": [
    "# !pip install konlpy\n",
    "from konlpy.tag import Okt\n",
    "\n",
    "okt = Okt()\n",
    "text=\"한글 자연어 처리는 재밌다. 이제부터 열심히 해야지 ㅎㅎㅎ\"\n",
    "\n",
    "print(okt.morphs(text))\n",
    "print(okt.morphs(text,stem=True))"
   ]
  },
  {
   "cell_type": "code",
   "execution_count": 3,
   "metadata": {},
   "outputs": [
    {
     "name": "stdout",
     "output_type": "stream",
     "text": [
      "['한글', '한글 자연어', '한글 자연어 처리', '이제', '자연어', '처리']\n",
      "['한글', '자연어', '처리', '이제']\n",
      "[('한글', 'Noun'), ('자연어', 'Noun'), ('처리', 'Noun'), ('는', 'Josa'), ('재밌다', 'Adjective'), ('.', 'Punctuation'), ('이제', 'Noun'), ('부터', 'Josa'), ('열심히', 'Adverb'), ('해야지', 'Verb'), ('ㅎㅎㅎ', 'KoreanParticle')]\n",
      "['한글/Noun', '자연어/Noun', '처리/Noun', '는/Josa', '재밌다/Adjective', './Punctuation', '이제/Noun', '부터/Josa', '열심히/Adverb', '해야지/Verb', 'ㅎㅎㅎ/KoreanParticle']\n"
     ]
    }
   ],
   "source": [
    "print(okt.phrases(text))\n",
    "print(okt.nouns(text))\n",
    "print(okt.pos(text))\n",
    "print(okt.pos(text, join=True))"
   ]
  },
  {
   "cell_type": "markdown",
   "metadata": {},
   "source": [
    "------------------------------------\n",
    "\n",
    "KoNLPy가 제공해주는 데이터도 있다. \n",
    "- kolaw \n",
    "    > 한국 법률 말뭉치\n",
    "- kobill\n",
    "    > 대한민국 국회 의안 말뭉치. id값으로 1809890.txt ~ 1809899.txt 까지 구성되어있음."
   ]
  },
  {
   "cell_type": "code",
   "execution_count": 8,
   "metadata": {},
   "outputs": [
    {
     "name": "stdout",
     "output_type": "stream",
     "text": [
      "대한민국헌법\n",
      "\n",
      "유구한 역사와 전통에 \n",
      "--------------------------------------------\n",
      "지방공무원법 일부개정법률안\n",
      "\n",
      "(정의화\n"
     ]
    }
   ],
   "source": [
    "from konlpy.corpus import kolaw\n",
    "from konlpy.corpus import kobill\n",
    "\n",
    "print(kolaw.open('constitution.txt').read()[:20])\n",
    "print('--------------------------------------------')\n",
    "print(kobill.open('1809890.txt').read()[:20])"
   ]
  },
  {
   "cell_type": "markdown",
   "metadata": {},
   "source": [
    "# 4. 그밖의 라이브러리\n",
    "\n",
    "마지막으로 볼 라이브러리들은 numpy, pandas, matplotlib, re, beautifulsoup까지 살펴보자."
   ]
  },
  {
   "cell_type": "markdown",
   "metadata": {},
   "source": [
    "## numpy\n",
    "빠르고 효율적인 계산을 위해 만들어진 파이썬 라이브러리이다. numpy는 고성능의 다차원 배열 객체와 이러한 배열을 계산할 효율적인 도구를 제공한다. 핵심은 ndarray 객체이다. 동일한 자료형을 가진 n차 배열로 저 덕은 코드로 연산이 가능하고 빠르게 결과를 얻을수 있다.\n",
    "\n",
    "```shell\n",
    "conda install numpy\n",
    "```\n",
    "로 간단하게 설치할수 있다.  \n",
    "\n",
    "numpy로 실습해보자"
   ]
  },
  {
   "cell_type": "code",
   "execution_count": 10,
   "metadata": {},
   "outputs": [
    {
     "name": "stdout",
     "output_type": "stream",
     "text": [
      "2\n",
      "(3, 3)\n",
      "9\n",
      "int64\n"
     ]
    }
   ],
   "source": [
    "import numpy as np\n",
    "\n",
    "a = np.array([[1,2,3],[1,5,9],[3,5,7]])\n",
    "\n",
    "print(a.ndim)  # 차원의 수를 반환한다.\n",
    "print(a.shape)  # 배열의 형태를 반환한다. 2*3 이라면 (2,3) 형태로 반환함\n",
    "print(a.size)   # 원소의 총개수\n",
    "print(a.dtype)  # 원소들의 자료형"
   ]
  },
  {
   "cell_type": "code",
   "execution_count": 24,
   "metadata": {},
   "outputs": [
    {
     "name": "stdout",
     "output_type": "stream",
     "text": [
      "[[0. 0. 0. 0.]\n",
      " [0. 0. 0. 0.]]\n",
      "[[1. 1.]\n",
      " [1. 1.]\n",
      " [1. 1.]]\n",
      "[[0.41691941 0.45870218]\n",
      " [0.79274789 0.99653963]]\n",
      "[10 15 20 25]\n",
      "[[4 4]\n",
      " [4 4]]\n",
      "[[1. 0. 0.]\n",
      " [0. 1. 0.]\n",
      " [0. 0. 1.]]\n",
      "[[0.81160886 0.0479222 ]\n",
      " [0.27604372 0.01028113]]\n"
     ]
    }
   ],
   "source": [
    "a = np.zeros((2,4))  # 2,4 형태의 0인 배열이 생김.\n",
    "print(a)\n",
    "b = np.ones((3,2))   # 3,2 형태의 1인 배열이 생김\n",
    "print(b)\n",
    "c = np.empty((2,2))  # 원소값을 초기화하지 않은 배열 생성\n",
    "print(c)\n",
    "d = np.arange(10,30,5) # 10 부터 30까지 5단위의 배열 생성\n",
    "print(d)\n",
    "e= np.full((2,2),4)  # 2,2 배열을 4로 채운 배열 생성\n",
    "print(e)\n",
    "f = np.eye(3)     # 3,3의 단위행렬이 생김.\n",
    "print(f)\n",
    "g = np.random.random((2,2))  # 임의의 값으로 2,2 배열을 채움.\n",
    "print(g)"
   ]
  },
  {
   "cell_type": "code",
   "execution_count": 27,
   "metadata": {},
   "outputs": [
    {
     "name": "stdout",
     "output_type": "stream",
     "text": [
      "a+b [5 7 9]\n",
      "np.add(a,b) [5 7 9]\n",
      "b-a [3 3 3]\n",
      "np.substract(b,a) [3 3 3]\n",
      "a**2 [1 4 9]\n",
      "b<5 [ True False False]\n"
     ]
    }
   ],
   "source": [
    "# numpy 기본연산\n",
    "a=np.array([1,2,3])\n",
    "b=np.array([4,5,6])\n",
    "\n",
    "print('a+b',a+b)\n",
    "print('np.add(a,b)',np.add(a,b))\n",
    "print('b-a',b-a)\n",
    "print('np.substract(b,a)',np.subtract(b,a))\n",
    "print('a**2',a**2)\n",
    "print('b<5',b<5)"
   ]
  },
  {
   "cell_type": "code",
   "execution_count": 32,
   "metadata": {},
   "outputs": [
    {
     "name": "stdout",
     "output_type": "stream",
     "text": [
      "c*d [[10 40]\n",
      " [90 48]]\n",
      "np.dot(c,d) [[ 70  44]\n",
      " [150 108]]\n",
      "c.dot(d) [[ 70  44]\n",
      " [150 108]]\n"
     ]
    }
   ],
   "source": [
    "c = np.array([[1,2],[3,4]])\n",
    "d = np.array([[10,20],[30,12]])\n",
    "\n",
    "print('c*d',c*d)                 # 원소별 곱셈\n",
    "print('np.dot(c,d)',np.dot(c,d))  # 내적\n",
    "print('c.dot(d)',c.dot(d))        # 내적"
   ]
  },
  {
   "cell_type": "code",
   "execution_count": 30,
   "metadata": {},
   "outputs": [
    {
     "name": "stdout",
     "output_type": "stream",
     "text": [
      "[ 5 15 21 17]\n",
      "[18 20 20]\n",
      "[2 7 9 7]\n",
      "[7 8 9]\n"
     ]
    }
   ],
   "source": [
    "# axis를 기준으로 한 연산\n",
    "a = np.array([[2,5,4,7],[1,7,8,4],[2,3,9,6]])\n",
    "print(a.sum(axis=0))  # 열을 기준으로 더함. 그래서 4개가 나옴\n",
    "print(a.sum(axis=1))  # 행을 기준으로 더함. 그래서 3개가 나옴\n",
    "print(a.max(axis=0))  # 열을 기준으로 최대값\n",
    "print(a.max(axis=1)) # 행을 기준으로 최대값"
   ]
  },
  {
   "cell_type": "code",
   "execution_count": 35,
   "metadata": {},
   "outputs": [
    {
     "name": "stdout",
     "output_type": "stream",
     "text": [
      "71\n",
      "6\n",
      "[ 4 71  7]\n",
      "[ 4 71  7  8 42  3  9  6]\n",
      "[ 2  5  4 71]\n",
      "[5 7 3]\n",
      "[2 3 9 6]\n"
     ]
    }
   ],
   "source": [
    "# 슬라이싱, 인덱싱\n",
    "a = np.array([2,5,4,71,7,8,42,3,9,6])\n",
    "b = np.array([[2,5,4,7],[1,7,8,4],[2,3,9,6]])\n",
    "\n",
    "print(a[3])\n",
    "print(a[-1])\n",
    "print(a[2:5])\n",
    "print(a[2:])\n",
    "print(a[:4])\n",
    "\n",
    "print(b[:,1])\n",
    "print(b[-1])"
   ]
  },
  {
   "cell_type": "code",
   "execution_count": 36,
   "metadata": {},
   "outputs": [
    {
     "name": "stdout",
     "output_type": "stream",
     "text": [
      "[ 1  2  3  4  5  6  7  8  9 10 11 12]\n",
      "[[ 1  2  3  4  5  6]\n",
      " [ 7  8  9 10 11 12]]\n",
      "[[ 1  5  9]\n",
      " [ 2  6 10]\n",
      " [ 3  7 11]\n",
      " [ 4  8 12]]\n"
     ]
    }
   ],
   "source": [
    "# 형태변환\n",
    "a = np.array([[1,2,3,4],[5,6,7,8],[9,10,11,12]])\n",
    "\n",
    "print(a.ravel())           # 1차원 벡터로 변환\n",
    "print(a.reshape(2,6))      #  2,6 배열로 변환\n",
    "print(a.T)                 # 트랜스포스 된 행렬로 변환"
   ]
  },
  {
   "cell_type": "code",
   "execution_count": 39,
   "metadata": {},
   "outputs": [
    {
     "name": "stdout",
     "output_type": "stream",
     "text": [
      "[[ 2  2  4]\n",
      " [ 5  5  7]\n",
      " [ 8  8 10]]\n",
      "[[ 2  2  4]\n",
      " [ 5  5  7]\n",
      " [ 8  8 10]]\n"
     ]
    }
   ],
   "source": [
    "# 브로드캐스팅 (형태가 달라도 연산이 가능함.)\n",
    "a = np.array([[1,2,3],[4,5,6],[7,8,9]])\n",
    "b = np.array([1,0,1])\n",
    "\n",
    "y = np.empty_like(a)\n",
    "\n",
    "for i in range(3):\n",
    "    y[i,:]= a[i,:]+b\n",
    "print(y)\n",
    "# 위와같은 연산은 크기가 커지면 속도가 느려질수있다.\n",
    "\n",
    "c = a+ b\n",
    "print(c)\n",
    "# 연산도 줄고 속도나 코드작성에서도 이로움이 있다."
   ]
  },
  {
   "cell_type": "markdown",
   "metadata": {},
   "source": [
    "## pandas 사용법\n",
    "\n",
    "설치는 \n",
    "```shell\n",
    "conda install pandas\n",
    "```\n",
    "사용하는 법은 \n",
    "```python3\n",
    "import pandas as pd\n",
    "```\n",
    "와 같이 하면 된다.\n",
    "\n",
    "3가지의 데이터구조가 있는데 \n",
    "- Series\n",
    "    + 1차원 배열의 형태\n",
    "- DataFrame\n",
    "    + 2차원 데이터 구조\n",
    "- Panel\n",
    "    + 3차원 데이터.  \n",
    "\n",
    "패널에 대한 자세한 설명은 [판다스 공식 문서](http://pandas.pydata.org/pandas-docs/stable)를 확인하자\n",
    "\n",
    "### Series\n",
    "`pandas.Series(data, index, dtype, copy)` 와 같이 만들 수 있다.\n",
    "\n"
   ]
  },
  {
   "cell_type": "code",
   "execution_count": 48,
   "metadata": {},
   "outputs": [
    {
     "name": "stdout",
     "output_type": "stream",
     "text": [
      "0    6\n",
      "1    7\n",
      "2    3\n",
      "3    8\n",
      "4    1\n",
      "dtype: int64\n",
      "0    b\n",
      "1    t\n",
      "2    q\n",
      "3    v\n",
      "dtype: object\n",
      "0    10\n",
      "1    15\n",
      "2    20\n",
      "3    25\n",
      "dtype: int64\n",
      "10    b\n",
      "20    r\n",
      "30    w\n",
      "dtype: object\n",
      "100    q\n",
      "200    v\n",
      "300    b\n",
      "dtype: object\n"
     ]
    }
   ],
   "source": [
    "import pandas as pd\n",
    "import numpy as np\n",
    "\n",
    "a = pd.Series([6,7,3,8,1])\n",
    "print(a)\n",
    "\n",
    "data= np.array(['b','t','q','v'])\n",
    "b= pd.Series(data)\n",
    "print(b)\n",
    "\n",
    "c=pd.Series(np.arange(10,30,5))\n",
    "print(c)\n",
    "\n",
    "d=pd.Series(['b','r','w'],index=[10,20,30])  # index 설정가능\n",
    "print(d)\n",
    "\n",
    "e=pd.Series({'100':'q','200':'v','300':'b'}) # dict 타입으로 인덱스 설정가능.\n",
    "print(e)"
   ]
  },
  {
   "cell_type": "markdown",
   "metadata": {},
   "source": [
    "### DataFrame \n",
    "\n",
    "데이터프레임은 2차원 데이터.\n",
    "```python3\n",
    "pandas.DataFrame(data, index, columns, dtype, copy)\n",
    "```\n",
    "\n",
    "data 외엔 생략이 가능하다. 아래에서 실습을 해보자."
   ]
  },
  {
   "cell_type": "code",
   "execution_count": 50,
   "metadata": {},
   "outputs": [
    {
     "name": "stdout",
     "output_type": "stream",
     "text": [
      "   0\n",
      "0  1\n",
      "1  5\n",
      "2  7\n",
      "3  9\n",
      "  Name  Age\n",
      "0  Cho   28\n",
      "1  Kim   31\n",
      "2  Lee   27\n",
      "        0     1\n",
      "0   apple  3000\n",
      "1  banana  5000\n",
      "2  orange  4500\n"
     ]
    }
   ],
   "source": [
    "a= pd.DataFrame([1,5,7,9])\n",
    "print(a)\n",
    "\n",
    "dic = {'Name':['Cho','Kim','Lee'], 'Age':[28,31,27]}\n",
    "b = pd.DataFrame(dic)\n",
    "print(b)\n",
    "\n",
    "c = pd.DataFrame([['apple',3000],['banana',5000],['orange',4500]])\n",
    "print(c)"
   ]
  },
  {
   "cell_type": "markdown",
   "metadata": {},
   "source": [
    "### 판다스 데이터불러오기, 쓰기\n",
    "\n",
    "```python3\n",
    "pandas.read_csv('file_path')\n",
    "```\n",
    "이처럼 csv 파일을 읽어올수 있다. 이걸로 DataFrame을 만들어 데이터를 가공할수 있다.  \n",
    "그럼 어떻게 다루는지 보자."
   ]
  },
  {
   "cell_type": "code",
   "execution_count": null,
   "metadata": {},
   "outputs": [],
   "source": [
    "df = pd.read_csv('file_path')\n",
    "\n",
    "print(df['A'])\n",
    "\n",
    "print(df['A'][:3])\n",
    "\n",
    "df['D'] = df['A'] + df['B']  # a 열과 b 열을 더해서 D 열을 만듬. 숫자만 가능.\n",
    "print(df['D'])\n",
    "\n",
    "# 이외에도 드랍이라든지 다룰 부분이 많음."
   ]
  },
  {
   "cell_type": "markdown",
   "metadata": {},
   "source": [
    "### Matplotlib\n",
    "\n",
    "시각화를 위한 라이브러리.\n",
    "\n",
    "```shell\n",
    "conda install matplotlib\n",
    "```\n",
    "이처럼 설치할수있다.\n",
    "그럼 바로 실습하자."
   ]
  },
  {
   "cell_type": "code",
   "execution_count": 56,
   "metadata": {},
   "outputs": [
    {
     "data": {
      "text/plain": [
       "[<matplotlib.lines.Line2D at 0x7f3721542700>]"
      ]
     },
     "execution_count": 56,
     "metadata": {},
     "output_type": "execute_result"
    },
    {
     "data": {
      "image/png": "[encoded data removed]",
      "text/plain": [
       "<Figure size 432x288 with 1 Axes>"
      ]
     },
     "metadata": {
      "needs_background": "light"
     },
     "output_type": "display_data"
    }
   ],
   "source": [
    "%matplotlib inline\n",
    "import matplotlib.pyplot as plt\n",
    "import numpy as np\n",
    "\n",
    "x=[1,3,5,7,9]\n",
    "y=[100,200,300,400,500]\n",
    "plt.plot(x,y)"
   ]
  },
  {
   "cell_type": "code",
   "execution_count": 68,
   "metadata": {},
   "outputs": [
    {
     "data": {
      "text/plain": [
       "[<matplotlib.lines.Line2D at 0x7f37210a8ca0>]"
      ]
     },
     "execution_count": 68,
     "metadata": {},
     "output_type": "execute_result"
    },
    {
     "data": {
      "image/png": "[encoded data removed]",
      "text/plain": [
       "<Figure size 432x288 with 1 Axes>"
      ]
     },
     "metadata": {
      "needs_background": "light"
     },
     "output_type": "display_data"
    }
   ],
   "source": [
    "# cosine 함수그리기\n",
    "# x=np.linspace(-np.pi, np.pi, 128)\n",
    "x=np.linspace(0, np.pi, 300)\n",
    "y=np.cos(x)\n",
    "plt.plot(y)"
   ]
  },
  {
   "cell_type": "markdown",
   "metadata": {},
   "source": [
    "## re (정규 표현식)\n",
    "\n",
    "파이썬에 내장라이브러리인 re 를 알아보자\n",
    "\n",
    "\n",
    "|표현식|설명|\n",
    "|---|:---:|\n",
    "|.|줄바꿈을 제외한 모든 문자|\n",
    "|^|문자열의 시작|\n",
    "|$|문자열의 끝|\n",
    "|*|앞에 있는 문자가 0회 이상 반복된 문자열|\n",
    "|+|앞에 있는 문자가 1회 이상 반복된 문자열|\n",
    "|{m}|앞 문자를 m번 반복하는 문자열|\n",
    "|{n,m}|앞 문자를 n번 이상 m번 이하 반복하는 문자열|\n",
    "|?|앞 문자가 나오지 않거나 나오는 문자열 ({0,1} 과 같은 표현)|\n",
    "|\\d|숫자|\n",
    "|\\D|숫자 아닌 문자|\n",
    "|\\w|문자 혹은 숫자|\n",
    "|\\W|문자 혹은 숫자가 아닌것|\n",
    "|(...)|괄호안의 모든 전규표현식을 만족하는 문자|\n",
    "|[abc]|a,b,c 중에 한개와 일치하는 문자|\n",
    "\n",
    "\n",
    "사용법은 아래에서 살펴보자"
   ]
  },
  {
   "cell_type": "code",
   "execution_count": 104,
   "metadata": {},
   "outputs": [
    {
     "name": "stdout",
     "output_type": "stream",
     "text": [
      "<re.Match object; span=(0, 5), match='문자열이나'>\n",
      "<re.Match object; span=(0, 1), match='.'>\n",
      "['', '특수문자가', '', '있으면', '', '자름']\n",
      "특수문자나띄어쓰기있으면공백으로만듦\n"
     ]
    }
   ],
   "source": [
    "import re\n",
    "\n",
    "pattern='\\w+'\n",
    "re_pattern = re.compile(pattern) # 컴파일 해두면 필요할때마다 사용할수있음.\n",
    "print(re_pattern.match(\"문자열이나 숫자인 경우만 생성되지요.& 13\\n\")) # match 되는게 없다면 None\n",
    "\n",
    "print(re.search('\\W','.특수문자가 있으면 생성'))\n",
    "\n",
    "print(re.split('\\W','.특수문자가, 있으면, 자름'))\n",
    "\n",
    "print(re.sub('\\W', '', '.특수문자나 띄어쓰기, 있으면, 공백으로 만듦.'))"
   ]
  },
  {
   "cell_type": "markdown",
   "metadata": {},
   "source": [
    "## beautiful soup 사용\n",
    "beuatiful soup은 웹에있는 html 문서를 파싱할수 있다. 구체적인 내용은 [공식문서](https://www.crummy.com/software/BeautifulSoup/bs4/doc/)를 확인하자"
   ]
  },
  {
   "cell_type": "markdown",
   "metadata": {},
   "source": [
    "# 캐글 사용법\n",
    "\n",
    "캐글을 데이터를 제공해줄 뿐 아니라 여러사람과 경쟁해볼수도 있고 모델을 비교해보며 공부할수 있다는 점이 매력적이다. 자연어처리 분야또 한 마찬가지다. 캐글에는 많은 자연어처리가 있으므로 공부해보자.\n",
    "[캐글 홈페이지](https://www.kaggle.com)에 들어가보자\n"
   ]
  },
  {
   "cell_type": "markdown",
   "metadata": {},
   "source": [
    "캐글을 파이썬에서도 사용할수있으니 관련 api 사용하기 위해 설치해보자\n",
    "```shell\n",
    "conda install kaggle\n",
    "```\n",
    "설치되었다면 계정과 연동해야함. 캐글 홈페이지에서 가입하고 Account 탭으로 가서 Create API Token을 선택하고 kaggel.json 파일을 내려받는다. 이 파일에는 본인의 인증서가 들어있다. 내려받은 파일은 아래의 위치에 가져다 놓는다.\n",
    "```\n",
    "C:\\User\\<UserName>\\.kaggle   # 윈도우\n",
    "/home/<UserName>/.kaggle     # 리눅스 or Mac\n",
    "```\n",
    "\n",
    "이제 데이터를 받는 방법은 Data 탭에 들어가서 API의 명령어를 복사한후 커맨드창에 입력하면 된다.\n",
    "자세한건 [캐글문서](https://github.com/Kaggle/kaggle-api)를 확인하자.\n",
    "```shell\n",
    "$ kaggle competitions download -c <competition-name>  // 다운로드\n",
    "$ kaggle competitions files -c <competition-name>     // 데이터 목록 확인\n",
    "$ kaggle competitions submit <competition-name> -f <file-name> -m <message>    // 데이터 제출\n",
    "$ kaggle competitions list                            // 대회 목록 확인\n",
    "```\n",
    "\n",
    "등이 있다."
   ]
  },
  {
   "cell_type": "markdown",
   "metadata": {},
   "source": [
    "# 정리\n",
    "\n",
    "길고 긴 2장을 마무리했다.  \n",
    "여기 나온 예시들은 다 짧게만 살펴본것이기 때문에 더 봐야할것들이 많다.  \n",
    "공식 문서를 자주 살피고 익숙해져서 상황에 따라 자유롭게 사용할수있도록 하자."
   ]
  }
 ],
 "metadata": {
  "kernelspec": {
   "display_name": "Environment (conda_tf2_nlp_study)",
   "language": "python",
   "name": "conda_tf2_nlp_study"
  },
  "language_info": {
   "codemirror_mode": {
    "name": "ipython",
    "version": 3
   },
   "file_extension": ".py",
   "mimetype": "text/x-python",
   "name": "python",
   "nbconvert_exporter": "python",
   "pygments_lexer": "ipython3",
   "version": "3.8.5"
  }
 },
 "nbformat": 4,
 "nbformat_minor": 2
}
